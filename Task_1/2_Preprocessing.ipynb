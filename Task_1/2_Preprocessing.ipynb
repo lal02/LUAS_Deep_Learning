{
 "cells": [
  {
   "cell_type": "markdown",
   "id": "d3eec35c",
   "metadata": {},
   "source": [
    "# Preprocessing the data "
   ]
  },
  {
   "cell_type": "code",
   "execution_count": null,
   "id": "c98f8158",
   "metadata": {},
   "outputs": [],
   "source": [
    "import pandas as pd \n",
    "import matplotlib.pyplot as plt "
   ]
  },
  {
   "cell_type": "code",
   "execution_count": null,
   "id": "427a8c6f",
   "metadata": {},
   "outputs": [],
   "source": [
    "df = pd.read_csv(\"../datasets/Task_1/car_price_prediction.csv\")\n",
    "df.head()"
   ]
  },
  {
   "cell_type": "markdown",
   "id": "afa00ed3",
   "metadata": {},
   "source": [
    "## Remove ID Column"
   ]
  },
  {
   "cell_type": "code",
   "execution_count": null,
   "id": "9b6a7413",
   "metadata": {},
   "outputs": [],
   "source": [
    "df.drop(columns=['ID'],inplace=True)\n",
    "df.head()"
   ]
  },
  {
   "cell_type": "markdown",
   "id": "ec639303",
   "metadata": {},
   "source": [
    "## Manufacturer Mapping"
   ]
  },
  {
   "cell_type": "code",
   "execution_count": null,
   "id": "4b3b2201",
   "metadata": {},
   "outputs": [],
   "source": [
    "unique_manufacturer = df[\"Manufacturer\"].unique()\n",
    "\n",
    "# Use of AI:\n",
    "# Why? -> new to python. Before mainly java (spring) and cpp\n",
    "# Prompt: \"in python i have a list of names which I want to put into a dictionary with an associated int value starting from 1 (so e.g. Ford - 1, Audi - 2 , Mercedes - 3 ,....)How do I do that\"\n",
    "# Result (with small adjustment):\n",
    "manufacturer_result = {unique: i+1 for i, unique in enumerate(unique_manufacturer)}\n",
    "print(manufacturer_result)\n",
    "\n",
    "# Replace value in dataframe with according integer from the dictionary\n",
    "df.replace(manufacturer_result,inplace=True)\n",
    "df.head()"
   ]
  },
  {
   "cell_type": "markdown",
   "id": "ecaf6dba",
   "metadata": {},
   "source": [
    "## Model Mapping"
   ]
  },
  {
   "cell_type": "code",
   "execution_count": null,
   "id": "d92f7ddf",
   "metadata": {},
   "outputs": [],
   "source": [
    "unique_model = df[\"Model\"].unique()\n",
    "print(len(unique_model))\n",
    "model_result = {unique: i+1 for i, unique in enumerate(unique_model)}\n",
    "print(model_result)\n",
    "\n",
    "df.replace(model_result,inplace=True)\n",
    "df.head()"
   ]
  },
  {
   "cell_type": "markdown",
   "id": "0a2f129a",
   "metadata": {},
   "source": [
    "## Category Mapping"
   ]
  },
  {
   "cell_type": "code",
   "execution_count": null,
   "id": "274ddd52",
   "metadata": {},
   "outputs": [],
   "source": [
    "unique_category = df[\"Category\"].unique()\n",
    "print(len(unique_category))\n",
    "category_result = {unique: i+1 for i, unique in enumerate(unique_category)}\n",
    "print(category_result)\n",
    "\n",
    "df.replace(category_result,inplace=True)\n",
    "df.head()"
   ]
  },
  {
   "cell_type": "markdown",
   "id": "74f535e7",
   "metadata": {},
   "source": [
    "## Interior Boolean Mapping\n",
    "1 = yes, 0 = no"
   ]
  },
  {
   "cell_type": "code",
   "execution_count": null,
   "id": "10173ff8",
   "metadata": {},
   "outputs": [],
   "source": [
    "bool_mapping = {\"Yes\":1,\"No\":0}\n",
    "df.replace(bool_mapping,inplace=True)\n",
    "df.head()"
   ]
  },
  {
   "cell_type": "markdown",
   "id": "f40314c3",
   "metadata": {},
   "source": [
    "## Fuel Type Mapping\n"
   ]
  },
  {
   "cell_type": "code",
   "execution_count": null,
   "id": "1a2126c8",
   "metadata": {},
   "outputs": [],
   "source": [
    "unique_fuel = df[\"Fuel type\"].unique()\n",
    "print(len(unique_fuel))\n",
    "fuel_result = {unique: i+1 for i, unique in enumerate(unique_fuel)}\n",
    "print(fuel_result)\n",
    "\n",
    "df.replace(fuel_result,inplace=True)\n",
    "df.head()"
   ]
  },
  {
   "cell_type": "code",
   "execution_count": null,
   "id": "5fdcfbdb",
   "metadata": {},
   "outputs": [],
   "source": [
    "df.describe()"
   ]
  },
  {
   "cell_type": "markdown",
   "id": "858ed390",
   "metadata": {},
   "source": [
    "Problem: column Engine Volume doesnt show up in df.describe() even though there should only be numeric values inside\n",
    "Solution: Search for != Integers and delete rows / adjust data inside the cells"
   ]
  },
  {
   "cell_type": "code",
   "execution_count": null,
   "id": "4462b997",
   "metadata": {},
   "outputs": [],
   "source": [
    "\n",
    "# source: https://www.geeksforgeeks.org/python/check-for-nan-in-pandas-dataframe/\n",
    "#print(df[\"Engine volume\"].isnull().sum())\n",
    "# => no Null values\n",
    "\n",
    "#print(df[\"Engine volume\"].dtypes)\n",
    "#=> all object datatypes\n",
    "\n",
    "#dataframe to numeric casten, everything else is gonna be NaN and remove them from the dataset\n",
    "# source: docs https://pandas.pydata.org/pandas-docs/stable/reference/api/pandas.to_numeric.html\n",
    "df[\"Engine volume\"] = pd.to_numeric(df[\"Engine volume\"],errors=\"coerce\")\n",
    "# result: ~1700 rows => too much for manual adjustment => remove rows \n",
    "df.dropna(how='any',axis=0,inplace=True)\n",
    "df[\"Engine volume\"].describe()\n",
    "\n"
   ]
  },
  {
   "cell_type": "code",
   "execution_count": null,
   "id": "8c7d064b",
   "metadata": {},
   "outputs": [],
   "source": [
    "df.head()"
   ]
  },
  {
   "cell_type": "markdown",
   "id": "4464e4de",
   "metadata": {},
   "source": [
    "## Remove \"km\" suffix from Mileage column"
   ]
  },
  {
   "cell_type": "code",
   "execution_count": null,
   "id": "0e4a6d51",
   "metadata": {},
   "outputs": [],
   "source": [
    "#this throws an error, now that it isnt an object anymore\n",
    "#df[\"Mileage\"] = df[\"Mileage\"].str.replace(\" km\", \"\")\n",
    "\n",
    "df.describe()\n",
    "print(df[\"Mileage\"].dtype)\n",
    "#problem: column mileage still not getting detected as numeric\n",
    "df[\"Mileage\"] = pd.to_numeric(df[\"Mileage\"],errors=\"coerce\")\n",
    "df.describe()"
   ]
  },
  {
   "cell_type": "markdown",
   "id": "69550e67",
   "metadata": {},
   "source": [
    "## Gear box type mapping"
   ]
  },
  {
   "cell_type": "code",
   "execution_count": null,
   "id": "005608c6",
   "metadata": {},
   "outputs": [],
   "source": [
    "unique_gear = df[\"Gear box type\"].unique()\n",
    "print(len(unique_gear))\n",
    "gear_result = {unique: i+1 for i, unique in enumerate(unique_gear)}\n",
    "print(gear_result)\n",
    "\n",
    "df.replace(gear_result,inplace=True)\n",
    "df.head()"
   ]
  },
  {
   "cell_type": "markdown",
   "id": "6f31c517",
   "metadata": {},
   "source": [
    "## Drive Wheels Mapping"
   ]
  },
  {
   "cell_type": "code",
   "execution_count": null,
   "id": "c74bdefc",
   "metadata": {},
   "outputs": [],
   "source": [
    "unique_wheels = df[\"Drive wheels\"].unique()\n",
    "print(len(unique_wheels))\n",
    "wheels_result = {unique: i+1 for i, unique in enumerate(unique_wheels)}\n",
    "print(wheels_result)\n",
    "\n",
    "df.replace(wheels_result,inplace=True)\n",
    "df.head()"
   ]
  },
  {
   "cell_type": "markdown",
   "id": "79b51143",
   "metadata": {},
   "source": [
    "## Doors Mapping"
   ]
  },
  {
   "cell_type": "code",
   "execution_count": null,
   "id": "65db685e",
   "metadata": {},
   "outputs": [],
   "source": [
    "unique_doors = df[\"Doors\"].unique()\n",
    "print(len(unique_doors))\n",
    "doors_result = {unique: i+1 for i, unique in enumerate(unique_doors)}\n",
    "print(doors_result)\n",
    "\n",
    "df.replace(doors_result,inplace=True)\n",
    "df.head()"
   ]
  },
  {
   "cell_type": "markdown",
   "id": "6cf80252",
   "metadata": {},
   "source": [
    "## Wheel Mapping"
   ]
  },
  {
   "cell_type": "code",
   "execution_count": null,
   "id": "b39c0d00",
   "metadata": {},
   "outputs": [],
   "source": [
    "unique_wheel = df[\"Wheel\"].unique()\n",
    "print(len(unique_wheel))\n",
    "wheel_result = {unique: i+1 for i, unique in enumerate(unique_wheel)}\n",
    "print(wheel_result)\n",
    "\n",
    "df.replace(wheel_result,inplace=True)\n",
    "df.head()"
   ]
  },
  {
   "cell_type": "markdown",
   "id": "e202e871",
   "metadata": {},
   "source": [
    "## Color Mapping"
   ]
  },
  {
   "cell_type": "code",
   "execution_count": null,
   "id": "c12862b9",
   "metadata": {},
   "outputs": [],
   "source": [
    "unique_color = df[\"Color\"].unique()\n",
    "print(len(unique_color))\n",
    "color_result = {unique: i+1 for i, unique in enumerate(unique_color)}\n",
    "print(color_result)\n",
    "\n",
    "df.replace(color_result,inplace=True)\n",
    "df.head()"
   ]
  },
  {
   "cell_type": "code",
   "execution_count": null,
   "id": "6f8a5c75",
   "metadata": {},
   "outputs": [],
   "source": [
    "df.to_csv(\"../datasets/Task_1/result.csv\")\n",
    "# save dataframe to new csv file"
   ]
  },
  {
   "cell_type": "markdown",
   "id": "ce2c51fb",
   "metadata": {},
   "source": [
    "## Process Levy so its getting used"
   ]
  },
  {
   "cell_type": "code",
   "execution_count": null,
   "id": "bcd11a26",
   "metadata": {},
   "outputs": [],
   "source": [
    "df = pd.read_csv(\"../datasets/Task_1/1.csv\")\n",
    "levy_mapping = {\"-\":0}\n",
    "df.replace(levy_mapping,inplace=True)\n",
    "df.head()"
   ]
  },
  {
   "cell_type": "code",
   "execution_count": null,
   "id": "d044c004",
   "metadata": {},
   "outputs": [],
   "source": [
    "# cast to numeric, replace non numeric with empty cells \n",
    "df[\"Levy\"] = pd.to_numeric(df[\"Levy\"],errors=\"coerce\")\n",
    "df[\"Levy\"].dtype\n",
    "df.describe()"
   ]
  },
  {
   "cell_type": "code",
   "execution_count": null,
   "id": "0e561020",
   "metadata": {},
   "outputs": [],
   "source": [
    "print(len(df.columns))\n",
    "print(df.columns)\n",
    "# column without name is getting added after saving (edit: apparently it adds a comma at the first position which leads to a column getting recognized)\n",
    "df.drop(columns=[\"Unnamed: 0\"],inplace=True)\n",
    "df.to_csv(\"../datasets/Task_1/2.csv\")"
   ]
  },
  {
   "cell_type": "markdown",
   "id": "5c5d9f0b",
   "metadata": {},
   "source": [
    "## Remove Outliers"
   ]
  },
  {
   "cell_type": "code",
   "execution_count": null,
   "id": "42f9d098",
   "metadata": {},
   "outputs": [],
   "source": [
    "df = pd.read_csv(\"../datasets/Task_1/2.csv\")\n",
    "df.head()"
   ]
  },
  {
   "cell_type": "markdown",
   "id": "b160d05b",
   "metadata": {},
   "source": [
    "Find outliers using plots:\n",
    "src: docs https://pandas.pydata.org/docs/getting_started/intro_tutorials/04_plotting.html"
   ]
  },
  {
   "cell_type": "code",
   "execution_count": null,
   "id": "41b8eb9a",
   "metadata": {},
   "outputs": [],
   "source": [
    "# find price outliers:\n",
    "df[\"Price\"].plot()\n",
    "df[\"Price\"].describe()\n",
    "\n",
    "sorted_df = df.sort_values(by='Price', ascending=False)\n",
    "print(sorted_df.head())\n",
    "# => 15266  26307500     0             8    207        1999         5   huge outlier with 26Million$ => manually remove it from the csv"
   ]
  },
  {
   "cell_type": "code",
   "execution_count": null,
   "id": "75009ab0",
   "metadata": {},
   "outputs": [],
   "source": [
    "# Find Levy Outliers\n",
    "df[\"Levy\"].plot()\n",
    "df[\"Levy\"].describe()\n",
    "\n",
    "sorted_df = df.sort_values(by='Levy', ascending=False)\n",
    "print(sorted_df.head())\n",
    "# 102    11917  11714             7     68        2003         3   \n",
    "#17076  11917  11714             7    306        2003         3   \n",
    "#17050  14740  11706             7   1583        2005         3   \n",
    "# 3 outliers manually removed"
   ]
  },
  {
   "cell_type": "markdown",
   "id": "172ed0ea",
   "metadata": {},
   "source": [
    "## Remove Column Color"
   ]
  },
  {
   "cell_type": "code",
   "execution_count": null,
   "id": "80fc43c2",
   "metadata": {},
   "outputs": [],
   "source": [
    "df = pd.read_csv(\"../datasets/Task_1/manipulation/2.csv\")\n",
    "df.head()"
   ]
  },
  {
   "cell_type": "code",
   "execution_count": null,
   "id": "8469ced1",
   "metadata": {},
   "outputs": [],
   "source": [
    "df.drop(columns=[\"Color\"],inplace=True)\n",
    "df.head()\n",
    "df.to_csv(\"../datasets/Task_1/3.csv\")"
   ]
  },
  {
   "cell_type": "markdown",
   "id": "033163a2",
   "metadata": {},
   "source": [
    "## Remove Column Doors"
   ]
  },
  {
   "cell_type": "code",
   "execution_count": null,
   "id": "20bc28ae",
   "metadata": {},
   "outputs": [],
   "source": [
    "df = pd.read_csv(\"..datasets/Task_1/3.csv\")\n",
    "df.head()"
   ]
  },
  {
   "cell_type": "code",
   "execution_count": null,
   "id": "5229e168",
   "metadata": {},
   "outputs": [],
   "source": [
    "df.drop(columns=[\"Doors\"],axis=1,inplace=True)\n",
    "df.head()"
   ]
  },
  {
   "cell_type": "code",
   "execution_count": null,
   "id": "33ad5238",
   "metadata": {},
   "outputs": [],
   "source": [
    "df.to_csv(\"../datasets/Task_1/4.csv\")"
   ]
  },
  {
   "cell_type": "markdown",
   "id": "f761c477",
   "metadata": {},
   "source": [
    "## Remove Column Wheel"
   ]
  },
  {
   "cell_type": "code",
   "execution_count": null,
   "id": "e41b335a",
   "metadata": {},
   "outputs": [],
   "source": [
    "df = pd.read_csv(\"../datasets/Task_1/4.csv\")\n",
    "df.head()"
   ]
  },
  {
   "cell_type": "code",
   "execution_count": null,
   "id": "2f489506",
   "metadata": {},
   "outputs": [],
   "source": [
    "df.drop(columns=[\"Wheel\"],axis=1,inplace=True)\n",
    "df.head()"
   ]
  },
  {
   "cell_type": "code",
   "execution_count": null,
   "id": "a1571e82",
   "metadata": {},
   "outputs": [],
   "source": [
    "df.to_csv(\"../datasets/Task_1/5.csv\")"
   ]
  },
  {
   "cell_type": "markdown",
   "id": "c49bfcda",
   "metadata": {},
   "source": [
    "## Remove Column Leather Interior"
   ]
  },
  {
   "cell_type": "code",
   "execution_count": null,
   "id": "e25726a8",
   "metadata": {},
   "outputs": [],
   "source": [
    "df = pd.read_csv(\"../datasets/Task_1/5.csv\")\n",
    "df.head()"
   ]
  },
  {
   "cell_type": "code",
   "execution_count": null,
   "id": "1cbde7fb",
   "metadata": {},
   "outputs": [],
   "source": [
    "df.drop(columns=[\"Leather interior\"],axis=1,inplace=True)\n",
    "df.head()"
   ]
  },
  {
   "cell_type": "code",
   "execution_count": null,
   "id": "a23f28a3",
   "metadata": {},
   "outputs": [],
   "source": [
    "df.to_csv(\"../datasets/Task_1/6.csv\")"
   ]
  },
  {
   "cell_type": "markdown",
   "id": "d244f647",
   "metadata": {},
   "source": [
    "## Remove Price Outliers with very small Price \n"
   ]
  },
  {
   "cell_type": "code",
   "execution_count": null,
   "id": "e710a6c7",
   "metadata": {},
   "outputs": [],
   "source": [
    "df = pd.read_csv(\"../datasets/Task_1/6.csv\")\n",
    "# find very small price outliers:\n",
    "df[\"Price\"].plot()\n",
    "df[\"Price\"].describe()\n",
    "\n",
    "sorted_df = df.sort_values(by='Price', ascending=True)\n",
    "print(sorted_df.head())"
   ]
  }
 ],
 "metadata": {
  "kernelspec": {
   "display_name": "DL",
   "language": "python",
   "name": "python3"
  },
  "language_info": {
   "codemirror_mode": {
    "name": "ipython",
    "version": 3
   },
   "file_extension": ".py",
   "mimetype": "text/x-python",
   "name": "python",
   "nbconvert_exporter": "python",
   "pygments_lexer": "ipython3",
   "version": "3.12.11"
  }
 },
 "nbformat": 4,
 "nbformat_minor": 5
}
